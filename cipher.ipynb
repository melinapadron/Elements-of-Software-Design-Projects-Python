{
  "metadata": {
    "language_info": {
      "codemirror_mode": {
        "name": "python",
        "version": 3
      },
      "file_extension": ".py",
      "mimetype": "text/x-python",
      "name": "python",
      "nbconvert_exporter": "python",
      "pygments_lexer": "ipython3",
      "version": "3.8"
    },
    "kernelspec": {
      "name": "python",
      "display_name": "Python (Pyodide)",
      "language": "python"
    }
  },
  "nbformat_minor": 4,
  "nbformat": 4,
  "cells": [
    {
      "cell_type": "markdown",
      "source": "##Description\nCryptography is an ancient study of secret writing. There is a wealth of literature in this field. An extremely\nreadable book on this subject is The Code Book by Simon Singh. This is a field of study that is of particular\nrelevance in Computer Science. Given the widespread use of computers, one of the things people are\ninterested in is making transactions over the internet more secure.\nHere is a simple and clever way to encrypt plain text. Assume that the message contains only upper case\nletters, lower case letters and digits. Let L be the length of the original message, and M the smallest square\nnumber greater than or equal to L. Add (M-L) asterisks to the message, giving a padded message with length\nM. Use the padded message to fill a table of size K ×K, where K2= M . Fill the table in row-major order\n(left to right in each column, top to bottom for each row).\nNow to encrypt, rotate the table 90◦clockwise. The encrypted message comes from reading the message\nin row-major order from the rotated table, omitting any asterisks and maintaining the case of each character\nfrom the original message. The objective is to output the encryption of string \"p\" and the decryption  of string \"q.\"",
      "metadata": {}
    },
    {
      "cell_type": "code",
      "source": "import sys\nimport math\n\ndef encrypt(message_to_encrypt):\n    #number of characters\n    l = len(message_to_encrypt)\n    #sqaure length\n    m = int(math.ceil(math.sqrt(l)))\n    #total number of cells in square\n    c = m**2\n    \n    #Create list by lines\n    list_by_line = [message_to_encrypt[i:i+m] for i in range(0, c, m)]\n    \n    #adds * where needed\n    for i in range(m):\n        while len(list_by_line[i]) != m:\n            list_by_line[i] += '*'\n\n    #Gives the letters in correct order, but from bottom to top\n    finished_table = [list(x)[::-1] for x in zip(*list_by_line)]\n    \n    # Read the message in row-major order from the rotated table\n    encrypted_message = \"\".join([\"\".join(row) for row in finished_table]).replace(\"*\", \"\")\n    \n    return encrypted_message\n\ndef decrypt(message):\n    #number of characters\n    l = len(message)\n    #sqaure length\n    m = int(math.ceil(math.sqrt(l)))\n    #total number of cells in square\n    c = m**2\n    #total number of * needed\n    p = c-l\n    empty = []\n    rotated_array = []\n    x=0\n    \n    #creates an array of the correct size, filled with *\n    empty =  [['*'] * m for i in range(m)]\n    for j in range(m):\n        x=(m-1)-j\n        if sum(i.count('*') for i in empty) == p:\n            break\n        for i in range(-1,m-1):\n            empty[i+1][x] = ''\n            if sum(i.count('*') for i in empty) == p:\n                break\n    #fills padded array with message\n    for j in range(m):\n        for i in range(m):\n            if empty[j][i] != '*':\n                empty[j][i] = message[x]\n                x += 1\n    \n    #rotate array counter clockwise\n    for j in range(m-1,-1,-1):\n        rotated_array += [empty[i+1][j] for i in range(-1,m-1)]\n    \n    #joins each item in rotated_array back into a one line string, and drops the added *\n    decrypted_message = ''.join([''.join(row) for row in rotated_array]).replace('*', '')\n    \n    return decrypted_message\n\ndef main():\n    #reads input and makes a list with each line as an index\n    cipher_input = sys.stdin.read()\n    cipher_input = cipher_input.strip()\n    cipher_in = cipher_input.split('\\n')\n    \n#prints the encrypted message and then the decrypted message\n    print(encrypt(cipher_in[0]))\n    print(decrypt(cipher_in[1]))\n  \nif __name__ == '__main__':\n  main()\n",
      "metadata": {},
      "execution_count": null,
      "outputs": []
    }
  ]
}