{
  "metadata": {
    "language_info": {
      "name": ""
    },
    "kernelspec": {
      "name": "",
      "display_name": ""
    }
  },
  "nbformat_minor": 4,
  "nbformat": 4,
  "cells": [
    {
      "cell_type": "markdown",
      "source": "## Description\nConsider the natural numbers laid out in a square spiral, with 1 occupying the center of the spiral. The objective is to create a spiral of natural numbers and to output the sum of all the numbers adjacent to a given number, but not including this number.",
      "metadata": {}
    },
    {
      "cell_type": "code",
      "source": "\nimport sys\n\n# Input: n is an odd integer between 1 and 100\n# Output: returns a 2-D list representing a spiral\n#         if n is even add one to n\ndef create_spiral(n):\n    #a = big list (the entire spiral)\n    #k = shells\n    #i = row/small list\n    #j = empty cells\n    #num = printed number\n    #creates empty array to be filled later\n    a = [[0 for j in range(n)] for i in range(n)]\n    num = n * n\n    #makes each shell\n    for k in range((n + 1) // 2):\n        #makes top row\n        for i in range(k, n - k):\n            a[k][i] = num\n            num -= 1\n        #makes right edge\n        for i in range(k + 1, n - k):\n            a[i][n - k - 1] = num\n            num -= 1\n        #makes bottom row\n        for i in range(k + 1, n - k):\n            a[n - k - 1][n - 1 - i] = num\n            num -= 1\n        #makes left edge\n        for i in range(k + 1, n - k - 1):\n            a[n - 1 - i][k] = num\n            num -= 1\n    return a\n    \n# Input: spiral is a 2-D list and n is an integer\n# Output: returns an integer that is the sum of the\n#         numbers adjacent to n in the spiral\n#         if n is outside the range return 0\ndef sum_adjacent_numbers(spiral, num):\n    n = len(spiral)\n    #finds the cell that contains the input number\n    for i in range(n):\n        for j in range(n):\n            if spiral[i][j] == num:\n                x, y = i, j\n                break\n    result = 0\n    #number above\n    if x > 0:\n        result += spiral[x-1][y]\n    #number below\n    if x < n-1:\n        result += spiral[x+1][y]\n    #number to the right\n    if y > 0:\n        result += spiral[x][y-1]\n    #number to the left\n    if y < n-1:\n        result += spiral[x][y+1]\n    #number in top right\n    if x > 0 and y > 0:\n        result += spiral[x-1][y-1]\n    #number in top left\n    if x > 0 and y < n-1:\n        result += spiral[x-1][y+1]\n    #number in bottom right\n    if x < n-1 and y > 0:\n        result += spiral[x+1][y-1]\n    #number in bottom left\n    if x < n-1 and y < n-1:\n        result += spiral[x+1][y+1]\n    return result\n\n\ndef main():\n    #fake input file bc trinket\n    #spiral_in = [11, 1, 42, 110, 91]\n\n    #read the input file\n    spiral_input = sys.stdin.read()\n    spiral_input = spiral_input.strip()\n    #turns spiral_input into a list\n    spiral_in = spiral_input.split('\\n')\n    #turns list of strings into list of integers\n    for i in range(0, len(spiral_in)):\n      spiral_in[i] = int(spiral_in[i])\n    n = spiral_in[0]\n    spiral = create_spiral(n)\n    \n    #printing the adjacent answers\n    for i in range(1, len(spiral_in)):\n        print(sum_adjacent_numbers(spiral, spiral_in[i]))\n\n\nif __name__ == \"__main__\":\n    main()",
      "metadata": {},
      "execution_count": null,
      "outputs": []
    }
  ]
}