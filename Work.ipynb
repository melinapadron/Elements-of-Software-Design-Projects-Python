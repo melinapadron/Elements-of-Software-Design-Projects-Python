{
  "metadata": {
    "language_info": {
      "codemirror_mode": {
        "name": "python",
        "version": 3
      },
      "file_extension": ".py",
      "mimetype": "text/x-python",
      "name": "python",
      "nbconvert_exporter": "python",
      "pygments_lexer": "ipython3",
      "version": "3.8"
    },
    "kernelspec": {
      "name": "python",
      "display_name": "Python (Pyodide)",
      "language": "python"
    }
  },
  "nbformat_minor": 4,
  "nbformat": 4,
  "cells": [
    {
      "cell_type": "markdown",
      "source": "## Description: \nChris has to complete a programming assignment overnight. He has to write n lines of code before morning.\nHe is dead tired and he tries drinking some black coffee to keep him awake. But each time he drinks a cup\nof coffee he stays awake for a short amount of time but his productivity goes down by a constant factor k\nThis is how he plans to write the program. He will write the first v lines of code, then drink his first cup\nof coffee.\n•Since his productivity has gone down by a factor of k he will write v // k lines of code.\n•He will have another cup of coffee and then write v // k**2 lines of code.\n•He will have another cup of coffee and write v // k**3 lines of code and so on.\n•He will collapse and fall asleep when v // k ** p becomes 0.\nNow Chris does want to complete his assignment and maximize on his sleep. So he wants to figure out\nthe minimum allowable value of v for a given productivity factor that will allow him to write at least n lines of code before he falls asleep. The output will be v lines of code the Chris has to write, as well as the time it took for each function. \n\n First, I wrote a function that uses a linear search to solve the problem. Then I wrote a function that uses a modified binary search algorithm to solve it.\nagain. Both functions will return the same answer, but the binary search method will usually be faster.",
      "metadata": {}
    },
    {
      "cell_type": "code",
      "source": "import sys\nimport time\n\n\n# Input: v an integer representing the minimum lines of code and\n#        k an integer representing the productivity factor\n# Output: computes the sum of the series (v + v // k + v // k**2 + ...)\n#         returns the sum of the series\ndef sum_series(v,k):\n    if v <= k:\n      # if v <=k Chris will only write v lines of code\n      return v\n    sum = v # initialize sum as v\n    p = 1 # p is the largest integer such that v // k ** p > 0\n    while v//k**p >0:\n       # calculate the sum of the series until v // k ** p becomes 0\n        sum += v//k**p\n        p += 1\n    return sum\n\n\n\n# Input: n an integer representing the total number of lines of code\n#        k an integer representing the productivity factor\n# Output: returns v the minimum lines of code to write using linear search\ndef linear_search (n, k):\n  # Iterate through the range of values from 1 to n+1.\n  for v in range(1,n+1):\n    if sum_series(v, k) >= n:\n       # Chris will only be able to write at least n lines of code before falling asleep if sum_series >= n\n      return v\n\n\n\n# Input: n an integer representing the total number of lines of code\n#        k an integer representing the productivity factor\n# Output: returns v the minimum lines of code to write using binary search\ndef binary_search(n,k):\n    lo = 1 # initialize the minimum lines of code to 1\n    hi = n # initialize the maximum lines of code to n\n    while lo < hi:\n        mid = (lo + hi)//2 # Calculates the middle value\n        if sum_series(mid, k) >= n:\n          # the minimum allowable value of v is less than or equal to mid, so search in lower half\n            hi = mid\n        else:\n            lo = mid + 1\n            # the minimum allowable value of v is greater than mid, so search in the upper half\n    return lo # return the minimum allowable value of v\n\n\n\ndef main():\n  # read number of cases\n  line = sys.stdin.readline()\n  line = line.strip()\n  num_cases = int (line)\n\n  for i in range (num_cases):\n    line = sys.stdin.readline()\n    line = line.strip()\n    inp =  line.split()\n    n = int(inp[0])\n    k = int(inp[1])\n\n    start = time.time()\n    print(\"Binary Search: \" + str(binary_search(n, k)))\n    finish = time.time()\n    print(\"Time: \" + str(finish - start))\n\n    print()\n\n    start = time.time()\n    print(\"Linear Search: \" + str(linear_search(n, k)))\n    finish = time.time()\n    print(\"Time: \" + str(finish - start))\n\n    print()\n    print()\n\nif __name__ == \"__main__\":\n  main()",
      "metadata": {},
      "execution_count": null,
      "outputs": []
    }
  ]
}